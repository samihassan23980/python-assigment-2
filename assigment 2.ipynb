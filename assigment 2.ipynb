{
 "cells": [
  {
   "cell_type": "code",
   "execution_count": null,
   "metadata": {},
   "outputs": [],
   "source": [
    "b1=int(input(\"Enter your english number: \"))\n",
    "b2=int(input(\"Enter your urdu number : \"))\n",
    "b3=int(input(\"Enter your maths number: \"))\n",
    "b4=int(input(\"pakistan studies: \"))\n",
    "b5=int(input(\"Enter your sindi number: \"))\n",
    "total=(b1+b2+b3+b4+b4)\n",
    "per=total/500*100\n",
    "\n",
    "if per>=90:\n",
    "    print(\"your grade is a\")\n",
    "elif per>=80:\n",
    "    print(\"you grade is b\")\n",
    "elif per>=50:\n",
    "    print(\"you grade is c\")\n",
    "elif per>=40:\n",
    "    print(\"you grade is D\")\n",
    "else:\n",
    "    print(\"you are fail please you need work hard\")"
   ]
  }
 ],
 "metadata": {
  "kernelspec": {
   "display_name": "Python 3",
   "language": "python",
   "name": "python3"
  },
  "language_info": {
   "codemirror_mode": {
    "name": "ipython",
    "version": 3
   },
   "file_extension": ".py",
   "mimetype": "text/x-python",
   "name": "python",
   "nbconvert_exporter": "python",
   "pygments_lexer": "ipython3",
   "version": "3.7.4"
  }
 },
 "nbformat": 4,
 "nbformat_minor": 2
}
